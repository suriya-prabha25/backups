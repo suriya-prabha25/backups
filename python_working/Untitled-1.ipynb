{
 "cells": [
  {
   "cell_type": "code",
   "execution_count": null,
   "id": "c7b0180d",
   "metadata": {},
   "outputs": [],
   "source": [
    "from pdf2image import convert_from_bytes\n",
    "import requests\n",
    "import pytesseract\n",
    "\n",
    "url = \"https://claim.blr1.digitaloceanspaces.com/demo/cashless_claim/demo/cashless_claim/1233/687a28bbcacd6.pdf\"\n",
    "response = requests.get(url)\n",
    "\n",
    "if response.status_code == 200:\n",
    "    images = convert_from_bytes(response.content)  # now this should work\n",
    "    for i, image in enumerate(images):\n",
    "        text = pytesseract.image_to_string(image)\n",
    "        print(f\"\\n--- Page {i+1} ---\\n{text}\")\n"
   ]
  }
 ],
 "metadata": {
  "kernelspec": {
   "display_name": "Python 3",
   "language": "python",
   "name": "python3"
  },
  "language_info": {
   "name": "python",
   "version": "3.13.3"
  }
 },
 "nbformat": 4,
 "nbformat_minor": 5
}
